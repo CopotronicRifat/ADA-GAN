{
 "cells": [
  {
   "cell_type": "code",
   "execution_count": 2,
   "metadata": {},
   "outputs": [
    {
     "name": "stdout",
     "output_type": "stream",
     "text": [
      "166105\n",
      "1\n",
      "10\n",
      "11\n",
      "12\n",
      "13\n",
      "14\n",
      "15\n",
      "16\n",
      "17\n",
      "18\n",
      "19\n",
      "2\n",
      "20\n",
      "21\n",
      "22\n",
      "23\n",
      "24\n",
      "25\n",
      "26\n",
      "27\n",
      "28\n",
      "29\n",
      "3\n",
      "30\n",
      "31\n",
      "32\n",
      "33\n",
      "34\n",
      "35\n",
      "36\n",
      "37\n",
      "38\n",
      "39\n",
      "4\n",
      "40\n",
      "41\n",
      "42\n",
      "43\n",
      "44\n",
      "45\n",
      "46\n",
      "47\n",
      "48\n",
      "49\n",
      "5\n",
      "50\n",
      "51\n",
      "52\n",
      "53\n",
      "54\n",
      "55\n",
      "56\n",
      "57\n",
      "58\n",
      "59\n",
      "6\n",
      "60\n",
      "61\n",
      "62\n",
      "63\n",
      "64\n",
      "65\n",
      "66\n",
      "67\n",
      "68\n",
      "69\n",
      "7\n",
      "70\n",
      "71\n",
      "72\n",
      "73\n",
      "74\n",
      "75\n",
      "76\n",
      "77\n",
      "78\n",
      "79\n",
      "8\n",
      "80\n",
      "81\n",
      "82\n",
      "83\n",
      "84\n",
      "9\n"
     ]
    }
   ],
   "source": [
    "from keras.preprocessing.image import ImageDataGenerator\n",
    "from keras.models import Sequential, load_model\n",
    "from keras.layers.core import Dense, Dropout, Activation, Flatten\n",
    "from keras.layers.convolutional import Convolution3D, MaxPooling3D\n",
    "\n",
    "from keras.optimizers import SGD, RMSprop\n",
    "from keras.utils import np_utils, generic_utils\n",
    "\n",
    "import tensorflow as tf\n",
    "import os\n",
    "import matplotlib\n",
    "import matplotlib.pyplot as plt\n",
    "import numpy as np\n",
    "import cv2\n",
    "from sklearn.model_selection import train_test_split\n",
    "from sklearn import model_selection\n",
    "from sklearn import preprocessing\n",
    "from past.builtins import xrange\n",
    "\n",
    "# image specification\n",
    "img_rows,img_cols,img_depth=50,50,15\n",
    "\n",
    "x_tr = []\n",
    "x_count=[]\n",
    "\n",
    "#only for count\n",
    "import os\n",
    "listing = os.listdir('BANGLA/')\n",
    "cou=0\n",
    "for vid in listing:\n",
    "    listing2 = os.listdir('BANGLA/'+vid)\n",
    "    for vid2 in listing2:\n",
    "        cou +=1\n",
    "print(cou)\n",
    "\n",
    "listing = os.listdir('BANGLA/')\n",
    "for vid in listing:\n",
    "    print(vid)\n",
    "    counter =0\n",
    "    listing2 = os.listdir('BANGLA/'+vid)\n",
    "    count2=0\n",
    "    for vid2 in listing2:\n",
    "        frames = []\n",
    "        for k in xrange(15):\n",
    "            img_array = cv2.imread('BANGLA/'+vid+'/'+vid2)  # convert to array\n",
    "            frame=cv2.resize(img_array,(img_rows,img_cols),interpolation=cv2.INTER_AREA)\n",
    "            gray = cv2.cvtColor(frame, cv2.COLOR_BGR2GRAY)\n",
    "            frames.append(gray)\n",
    "        input=np.array(frames)\n",
    "        #print input.shape\n",
    "        ipt=np.rollaxis(np.rollaxis(input,2,0),2,0)\n",
    "        #print ipt.shape\n",
    "        x_tr.append(ipt)\n",
    "        counter +=1\n",
    "        #count2 +=1\n",
    "        #if count2 >= 1000:\n",
    "        #    break;\n",
    "    x_count.append([counter,int(vid)])"
   ]
  },
  {
   "cell_type": "code",
   "execution_count": 3,
   "metadata": {},
   "outputs": [
    {
     "name": "stdout",
     "output_type": "stream",
     "text": [
      "166105\n"
     ]
    }
   ],
   "source": [
    "X_tr_array = np.array(x_tr)\n",
    "num_samples = len(X_tr_array)\n",
    "print(num_samples)"
   ]
  },
  {
   "cell_type": "code",
   "execution_count": 4,
   "metadata": {},
   "outputs": [
    {
     "data": {
      "text/plain": [
       "[[1975, 1],\n",
       " [1981, 10],\n",
       " [1982, 11],\n",
       " [1984, 12],\n",
       " [1969, 13],\n",
       " [1983, 14],\n",
       " [1975, 15],\n",
       " [1980, 16],\n",
       " [1983, 17],\n",
       " [1981, 18],\n",
       " [1980, 19],\n",
       " [1980, 2],\n",
       " [1982, 20],\n",
       " [1988, 21],\n",
       " [1977, 22],\n",
       " [1941, 23],\n",
       " [1983, 24],\n",
       " [1977, 25],\n",
       " [1980, 26],\n",
       " [1975, 27],\n",
       " [1977, 28],\n",
       " [1981, 29],\n",
       " [1979, 3],\n",
       " [1968, 30],\n",
       " [1983, 31],\n",
       " [1985, 32],\n",
       " [1982, 33],\n",
       " [1983, 34],\n",
       " [1980, 35],\n",
       " [1983, 36],\n",
       " [1985, 37],\n",
       " [1984, 38],\n",
       " [1969, 39],\n",
       " [1982, 4],\n",
       " [1979, 40],\n",
       " [1972, 41],\n",
       " [1981, 42],\n",
       " [1979, 43],\n",
       " [1984, 44],\n",
       " [1969, 45],\n",
       " [1980, 46],\n",
       " [1980, 47],\n",
       " [1983, 48],\n",
       " [1981, 49],\n",
       " [1982, 5],\n",
       " [1981, 50],\n",
       " [1982, 51],\n",
       " [1982, 52],\n",
       " [1953, 53],\n",
       " [1975, 54],\n",
       " [1980, 55],\n",
       " [1986, 56],\n",
       " [1981, 57],\n",
       " [1958, 58],\n",
       " [1984, 59],\n",
       " [1982, 6],\n",
       " [1967, 60],\n",
       " [1981, 61],\n",
       " [1980, 62],\n",
       " [1953, 63],\n",
       " [1985, 64],\n",
       " [1978, 65],\n",
       " [1978, 66],\n",
       " [1983, 67],\n",
       " [1982, 68],\n",
       " [1985, 69],\n",
       " [1971, 7],\n",
       " [1984, 70],\n",
       " [1966, 71],\n",
       " [1968, 72],\n",
       " [1985, 73],\n",
       " [1984, 74],\n",
       " [1965, 75],\n",
       " [1982, 76],\n",
       " [1940, 77],\n",
       " [1981, 78],\n",
       " [1977, 79],\n",
       " [1985, 8],\n",
       " [1980, 80],\n",
       " [1975, 81],\n",
       " [1978, 82],\n",
       " [1971, 83],\n",
       " [1966, 84],\n",
       " [1984, 9]]"
      ]
     },
     "execution_count": 4,
     "metadata": {},
     "output_type": "execute_result"
    }
   ],
   "source": [
    "x_count"
   ]
  },
  {
   "cell_type": "code",
   "execution_count": 5,
   "metadata": {},
   "outputs": [
    {
     "data": {
      "text/plain": [
       "(166105, 50, 50, 15)"
      ]
     },
     "execution_count": 5,
     "metadata": {},
     "output_type": "execute_result"
    }
   ],
   "source": [
    "X_tr_array.shape"
   ]
  },
  {
   "cell_type": "code",
   "execution_count": 6,
   "metadata": {},
   "outputs": [],
   "source": [
    "# Assign Label to each class\n",
    "label=np.ones((len(X_tr_array),),dtype = int)\n",
    "minimum=0\n",
    "maximum=-1\n",
    "count=0\n",
    "for i in range(len(x_count)):\n",
    "    maximum += x_count[i][0]\n",
    "    #print([minimum,maximum])\n",
    "    label[minimum:maximum]= count\n",
    "    minimum +=x_count[i][0]\n",
    "    count +=1"
   ]
  },
  {
   "cell_type": "code",
   "execution_count": 7,
   "metadata": {},
   "outputs": [
    {
     "name": "stdout",
     "output_type": "stream",
     "text": [
      "X_Train shape: (166105, 50, 50, 15)\n"
     ]
    }
   ],
   "source": [
    "train_data = [X_tr_array,label]\n",
    "\n",
    "(X_train, y_train) = (train_data[0],train_data[1])\n",
    "print('X_Train shape:', X_train.shape)"
   ]
  },
  {
   "cell_type": "code",
   "execution_count": 9,
   "metadata": {},
   "outputs": [
    {
     "ename": "MemoryError",
     "evalue": "Unable to allocate 46.4 GiB for an array with shape (166105, 1, 50, 50, 15) and data type float64",
     "output_type": "error",
     "traceback": [
      "\u001b[1;31m---------------------------------------------------------------------------\u001b[0m",
      "\u001b[1;31mMemoryError\u001b[0m                               Traceback (most recent call last)",
      "\u001b[1;32m<ipython-input-9-9fce975b98d6>\u001b[0m in \u001b[0;36m<module>\u001b[1;34m\u001b[0m\n\u001b[1;32m----> 1\u001b[1;33m \u001b[0mtrain_set\u001b[0m \u001b[1;33m=\u001b[0m \u001b[0mnp\u001b[0m\u001b[1;33m.\u001b[0m\u001b[0mzeros\u001b[0m\u001b[1;33m(\u001b[0m\u001b[1;33m(\u001b[0m\u001b[0mnum_samples\u001b[0m\u001b[1;33m,\u001b[0m \u001b[1;36m1\u001b[0m\u001b[1;33m,\u001b[0m \u001b[0mimg_rows\u001b[0m\u001b[1;33m,\u001b[0m\u001b[0mimg_cols\u001b[0m\u001b[1;33m,\u001b[0m\u001b[0mimg_depth\u001b[0m\u001b[1;33m)\u001b[0m\u001b[1;33m)\u001b[0m\u001b[1;33m\u001b[0m\u001b[1;33m\u001b[0m\u001b[0m\n\u001b[0m\u001b[0;32m      2\u001b[0m \u001b[1;33m\u001b[0m\u001b[0m\n\u001b[0;32m      3\u001b[0m \u001b[1;32mfor\u001b[0m \u001b[0mh\u001b[0m \u001b[1;32min\u001b[0m \u001b[0mxrange\u001b[0m\u001b[1;33m(\u001b[0m\u001b[0mnum_samples\u001b[0m\u001b[1;33m)\u001b[0m\u001b[1;33m:\u001b[0m\u001b[1;33m\u001b[0m\u001b[1;33m\u001b[0m\u001b[0m\n\u001b[0;32m      4\u001b[0m     \u001b[0mtrain_set\u001b[0m\u001b[1;33m[\u001b[0m\u001b[0mh\u001b[0m\u001b[1;33m]\u001b[0m\u001b[1;33m[\u001b[0m\u001b[1;36m0\u001b[0m\u001b[1;33m]\u001b[0m\u001b[1;33m[\u001b[0m\u001b[1;33m:\u001b[0m\u001b[1;33m]\u001b[0m\u001b[1;33m[\u001b[0m\u001b[1;33m:\u001b[0m\u001b[1;33m]\u001b[0m\u001b[1;33m[\u001b[0m\u001b[1;33m:\u001b[0m\u001b[1;33m]\u001b[0m\u001b[1;33m=\u001b[0m\u001b[0mX_train\u001b[0m\u001b[1;33m[\u001b[0m\u001b[0mh\u001b[0m\u001b[1;33m,\u001b[0m\u001b[1;33m:\u001b[0m\u001b[1;33m,\u001b[0m\u001b[1;33m:\u001b[0m\u001b[1;33m,\u001b[0m\u001b[1;33m:\u001b[0m\u001b[1;33m]\u001b[0m\u001b[1;33m\u001b[0m\u001b[1;33m\u001b[0m\u001b[0m\n",
      "\u001b[1;31mMemoryError\u001b[0m: Unable to allocate 46.4 GiB for an array with shape (166105, 1, 50, 50, 15) and data type float64"
     ]
    }
   ],
   "source": [
    "train_set = np.zeros((num_samples, 1, img_rows,img_cols,img_depth))\n",
    "\n",
    "for h in xrange(num_samples):\n",
    "    train_set[h][0][:][:][:]=X_train[h,:,:,:]"
   ]
  },
  {
   "cell_type": "code",
   "execution_count": 10,
   "metadata": {},
   "outputs": [
    {
     "ename": "SyntaxError",
     "evalue": "invalid syntax (<ipython-input-10-4a2ec163c394>, line 1)",
     "output_type": "error",
     "traceback": [
      "\u001b[1;36m  File \u001b[1;32m\"<ipython-input-10-4a2ec163c394>\"\u001b[1;36m, line \u001b[1;32m1\u001b[0m\n\u001b[1;33m    $ echo 1 > /proc/sys/vm/overcommit_memory\u001b[0m\n\u001b[1;37m    ^\u001b[0m\n\u001b[1;31mSyntaxError\u001b[0m\u001b[1;31m:\u001b[0m invalid syntax\n"
     ]
    }
   ],
   "source": []
  },
  {
   "cell_type": "code",
   "execution_count": null,
   "metadata": {},
   "outputs": [],
   "source": []
  }
 ],
 "metadata": {
  "kernelspec": {
   "display_name": "Python 3",
   "language": "python",
   "name": "python3"
  },
  "language_info": {
   "codemirror_mode": {
    "name": "ipython",
    "version": 3
   },
   "file_extension": ".py",
   "mimetype": "text/x-python",
   "name": "python",
   "nbconvert_exporter": "python",
   "pygments_lexer": "ipython3",
   "version": "3.8.3"
  }
 },
 "nbformat": 4,
 "nbformat_minor": 4
}
